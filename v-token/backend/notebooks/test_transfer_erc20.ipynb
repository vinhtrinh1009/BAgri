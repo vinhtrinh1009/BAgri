{
 "cells": [
  {
   "cell_type": "code",
   "execution_count": 17,
   "id": "8e51181a",
   "metadata": {},
   "outputs": [],
   "source": [
    "from django.conf import settings\n",
    "from web3 import Web3\n",
    "import json\n",
    "import os\n",
    "\n",
    "from web3.middleware import geth_poa_middleware\n",
    "\n",
    "rinkeby_bridge_address = settings.RINKEBY_BRIDGE_CONTRACT_ADDRESS\n",
    "rinkeby_web3 = Web3(Web3.HTTPProvider(settings.INFURA_RINKEBY_HTTP_URL))\n",
    "abi = None\n",
    "with open(settings.RINKEBY_BRIDGE_CONTRACT_ABI_FILEPATH) as f:\n",
    "    abi = json.loads(f.read())\n",
    "\n",
    "rinkeby_bridge_contract = rinkeby_web3.eth.contract(address=rinkeby_bridge_address, abi=abi)\n",
    "\n",
    "goerli_bridge_address = settings.GOERLI_BRIDGE_CONTRACT_ADDRESS\n",
    "goerli_web3 = Web3(Web3.HTTPProvider(settings.INFURA_GOERLI_HTTP_URL))\n",
    "goerli_web3.middleware_onion.inject(geth_poa_middleware, layer=0)\n",
    "abi = None\n",
    "with open(settings.GOERLI_BRIDGE_CONTRACT_ABI_FILEPATH) as f:\n",
    "    abi = json.loads(f.read())\n",
    "\n",
    "goerli_bridge_contract = goerli_web3.eth.contract(address=goerli_bridge_address, abi=abi)\n"
   ]
  },
  {
   "cell_type": "code",
   "execution_count": 18,
   "id": "93e497bd",
   "metadata": {},
   "outputs": [],
   "source": [
    "# build transaction\n",
    "sender = '0x41d34752F32dAbf56367FA7aC7b021562a173854'\n",
    "\n",
    "args = {\n",
    "    'to': '0x724beDCD1C201eA956E2389f66F4c73589424826',\n",
    "    'amount': 10000000000000000000\n",
    "}\n",
    "func = rinkeby_bridge_contract.functions.burn(settings.RINKEBY_VCHAIN_TOKEN_CONTRACT_ADDRESS, args['to'], args['amount'])\n",
    "tx = func.buildTransaction({\n",
    "#     'gas': 70000,\n",
    "#     'gasPrice': rinkeby_web3.eth.gas_price,\n",
    "    'from': sender,\n",
    "    'nonce': rinkeby_web3.eth.getTransactionCount(sender)\n",
    "    })\n",
    "\n",
    "sender_private_key = settings.ETHEREUM_PRIVATE_KEY\n",
    "\n",
    "# sign transaction\n",
    "private_key = rinkeby_web3.toHex(hexstr=sender_private_key)\n",
    "signed_tx = rinkeby_web3.eth.account.sign_transaction(tx, private_key=private_key)"
   ]
  },
  {
   "cell_type": "code",
   "execution_count": 19,
   "id": "be4f6875",
   "metadata": {},
   "outputs": [
    {
     "data": {
      "text/plain": [
       "HexBytes('0x3858d03f43d94672c04fca199b55f64301e56477bc62a27ffb01c3b89d402912')"
      ]
     },
     "execution_count": 19,
     "metadata": {},
     "output_type": "execute_result"
    }
   ],
   "source": [
    "# send transaction\n",
    "\n",
    "rinkeby_web3.eth.send_raw_transaction(signed_tx.rawTransaction)"
   ]
  }
 ],
 "metadata": {
  "kernelspec": {
   "display_name": "Django Shell-Plus",
   "language": "python",
   "name": "django_extensions"
  },
  "language_info": {
   "codemirror_mode": {
    "name": "ipython",
    "version": 3
   },
   "file_extension": ".py",
   "mimetype": "text/x-python",
   "name": "python",
   "nbconvert_exporter": "python",
   "pygments_lexer": "ipython3",
   "version": "3.8.10"
  }
 },
 "nbformat": 4,
 "nbformat_minor": 5
}
