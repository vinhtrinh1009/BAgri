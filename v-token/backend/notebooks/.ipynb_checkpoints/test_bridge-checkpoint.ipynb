{
 "cells": [
  {
   "cell_type": "code",
   "execution_count": 1,
   "id": "8e51181a",
   "metadata": {},
   "outputs": [],
   "source": [
    "from django.conf import settings\n",
    "from web3 import Web3\n",
    "import json\n",
    "import os\n",
    "\n",
    "from web3.middleware import geth_poa_middleware\n",
    "\n",
    "rinkeby_bridge_address = settings.RINKEBY_BRIDGE_CONTRACT_ADDRESS\n",
    "rinkeby_web3 = Web3(Web3.HTTPProvider(settings.INFURA_RINKEBY_HTTP_URL))\n",
    "abi = None\n",
    "with open(settings.RINKEBY_BRIDGE_CONTRACT_ABI_FILEPATH) as f:\n",
    "    abi = json.loads(f.read())\n",
    "\n",
    "rinkeby_bridge_contract = rinkeby_web3.eth.contract(address=rinkeby_bridge_address, abi=abi)\n",
    "\n",
    "goerli_bridge_address = settings.GOERLI_BRIDGE_CONTRACT_ADDRESS\n",
    "goerli_web3 = Web3(Web3.HTTPProvider(settings.INFURA_GOERLI_HTTP_URL))\n",
    "goerli_web3.middleware_onion.inject(geth_poa_middleware, layer=0)\n",
    "abi = None\n",
    "with open(settings.GOERLI_BRIDGE_CONTRACT_ABI_FILEPATH) as f:\n",
    "    abi = json.loads(f.read())\n",
    "\n",
    "goerli_bridge_contract = goerli_web3.eth.contract(address=goerli_bridge_address, abi=abi)\n"
   ]
  },
  {
   "cell_type": "code",
   "execution_count": 2,
   "id": "93e497bd",
   "metadata": {},
   "outputs": [
    {
     "name": "stdout",
     "output_type": "stream",
     "text": [
      "{'step': 0, 'from': '0x41d34752F32dAbf56367FA7aC7b021562a173854', 'to': '0x1Dc87d6315f80C940C88432b49c8428EeD5554fB', 'amount': 10000000000000000000, 'date': 1637553740, 'nonce': 0}\n"
     ]
    }
   ],
   "source": [
    "data = json.load(open(os.path.join(settings.BASE_DIR, 'data', 'example', 'burn_event.json')))\n",
    "args = data['args']\n",
    "\n",
    "# build transaction\n",
    "func = goerli_bridge_contract.functions.mint(settings.GOERLI_VCHAIN_TOKEN_CONTRACT_ADDRESS, args['to'], 100000000000000000000, args['nonce'])\n",
    "tx = func.buildTransaction({\n",
    "    'gas': 70000,\n",
    "    'gasPrice': goerli_web3.eth.gas_price,\n",
    "    'from': setttings.GOERLI_BRIDGE_ADMIN_ADDRESS,\n",
    "    'nonce': goerli_web3.eth.getTransactionCount(settings.GOERLI_BRIDGE_ADMIN_ADDRESS)\n",
    "    })\n",
    "\n",
    "# sign transaction\n",
    "private_key = goerli_web3.toHex(hexstr=settings.ETHEREUM_PRIVATE_KEY)\n",
    "signed_tx = goerli_web3.eth.account.sign_transaction(tx, private_key=private_key)"
   ]
  },
  {
   "cell_type": "code",
   "execution_count": 7,
   "id": "be4f6875",
   "metadata": {},
   "outputs": [
    {
     "data": {
      "text/plain": [
       "HexBytes('0xe5760cd2f2e1611add35bb2fe2a63957a335885a99495ce63504fdd73b2c2045')"
      ]
     },
     "execution_count": 7,
     "metadata": {},
     "output_type": "execute_result"
    }
   ],
   "source": [
    "# send transaction\n",
    "\n",
    "goerli_web3.eth.send_raw_transaction(signed_tx.rawTransaction)"
   ]
  }
 ],
 "metadata": {
  "kernelspec": {
   "display_name": "Django Shell-Plus",
   "language": "python",
   "name": "django_extensions"
  },
  "language_info": {
   "codemirror_mode": {
    "name": "ipython",
    "version": 3
   },
   "file_extension": ".py",
   "mimetype": "text/x-python",
   "name": "python",
   "nbconvert_exporter": "python",
   "pygments_lexer": "ipython3",
   "version": "3.8.12"
  }
 },
 "nbformat": 4,
 "nbformat_minor": 5
}
